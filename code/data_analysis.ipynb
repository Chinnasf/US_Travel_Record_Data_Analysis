{
 "cells": [
  {
   "cell_type": "code",
   "execution_count": 1,
   "metadata": {},
   "outputs": [],
   "source": [
    "import numpy as np\n",
    "import pandas as pd"
   ]
  },
  {
   "cell_type": "markdown",
   "metadata": {},
   "source": [
    "# Department of Homeland Security\n",
    "## U.S. Customs and Border Protection\n",
    "\n",
    "**I-94 travel history includes up to 100 arrivals and departures spanning the last ten years.**\n",
    "\n",
    "The data analysed here was obtained from the official website of the U.S. Department of Homeland Security by following the steps shown [here](https://i94.cbp.dhs.gov/help#How-to-Access-and-Print-Your-Form-I-94-Arrival-Departure-Record-using-an-A-Number-Alien-Registration-Number).\n",
    "\n",
    "\n",
    "* File: OMB No. 1651-0111 \n",
    "* Expiration Date: 03/31/2025\n",
    "* Admission I-94 Record Number: 428722095A4\n",
    "* Arrival/Issued Date: 2025 March 05\n",
    "* Class of Admission: B2\n",
    "* Admit Until Date: 2025 September 04\n",
    "\n",
    "\n",
    "Details provided on the I-94 Information form:\n",
    "\n",
    "* Last/Surname: FUENTES LEON\n",
    "* First (Given) Name: ADRIANA\n",
    "* Birth Date: 1971 October 09\n",
    "* Document Number: N01856008\n",
    "* Country of Citizenship: Mexico\n",
    "\n",
    "**The reader may want to read the [Understanding the I-94 Arrival/Departure Record](https://internationaloffice.berkeley.edu/immigration/i94) guide provided by Berkeley International Office**"
   ]
  },
  {
   "cell_type": "markdown",
   "metadata": {},
   "source": []
  },
  {
   "cell_type": "code",
   "execution_count": 9,
   "metadata": {},
   "outputs": [
    {
     "name": "stdout",
     "output_type": "stream",
     "text": [
      "'I-94 Official Website - View Travel History Response.pdf'   travel_history.csv\n"
     ]
    }
   ],
   "source": [
    "! ls data"
   ]
  },
  {
   "cell_type": "code",
   "execution_count": null,
   "metadata": {},
   "outputs": [
    {
     "name": "stdout",
     "output_type": "stream",
     "text": [
      "          Date       Type Location\n",
      "0   2025-03-20  Departure      SNA\n",
      "1   2025-03-05    Arrival      SNA\n",
      "2   2024-12-15  Departure      SNA\n",
      "3   2024-11-25    Arrival      SNA\n",
      "4   2024-11-02  Departure      SNA\n",
      "5   2024-10-11    Arrival      ARU\n",
      "6   2024-10-06  Departure      MIA\n",
      "7   2024-10-05    Arrival      SNA\n",
      "8   2024-08-06  Departure      SNA\n",
      "9   2024-08-03    Arrival      SNA\n",
      "10  2024-03-11  Departure      SNA\n",
      "11  2024-03-09    Arrival      SNA\n",
      "12  2024-01-01  Departure      SNA\n",
      "13  2023-12-29    Arrival      SNA\n",
      "14  2023-07-10  Departure      SNA\n",
      "15  2023-06-10    Arrival      SNA\n",
      "16  2023-05-30  Departure      SNA\n",
      "17  2023-05-05    Arrival      SNA\n",
      "18  2022-12-21  Departure      SNA\n",
      "19  2022-12-19    Arrival      SNA\n",
      "20  2022-08-01  Departure      SNA\n",
      "21  2022-07-10    Arrival      SNA\n",
      "22  2022-02-16  Departure      SNA\n",
      "23  2022-02-09    Arrival      SNA\n",
      "24  2021-10-28  Departure      SNA\n",
      "25  2021-10-19    Arrival      SNA\n",
      "26  2021-09-11  Departure      SNA\n",
      "27  2021-08-26    Arrival      SNA\n",
      "28  2021-08-13  Departure      SNA\n",
      "29  2021-08-02    Arrival      SNA\n",
      "30  2021-05-21  Departure      SNA\n",
      "31  2021-05-17    Arrival      HOU\n",
      "32  2021-05-11  Departure      SNA\n",
      "33  2021-04-30    Arrival      HOU\n",
      "34  2021-04-25  Departure      HOU\n",
      "35  2021-04-15    Arrival      SNA\n",
      "36  2021-01-01  Departure      SNA\n",
      "37  2020-12-17    Arrival      SNA\n",
      "38  2020-01-24    Arrival      DAL\n",
      "39  2020-01-14  Departure      DAL\n",
      "40  2019-12-14    Arrival      HOU\n",
      "41  2019-12-09  Departure      SNA\n",
      "42  2019-11-19    Arrival      HOU\n",
      "43  2019-11-10  Departure      SNA\n",
      "44  2019-08-23    Arrival      HOU\n",
      "45  2019-07-16  Departure      HOU\n",
      "46  2019-06-24    Arrival      HOU\n",
      "47  2019-05-21  Departure      ATL\n",
      "48  2019-04-21    Arrival      HOU\n",
      "49  2019-04-06  Departure      HOU\n",
      "50  2019-01-30    Arrival      HOU\n",
      "51  2019-01-10  Departure      ATL\n",
      "52  2018-12-23    Arrival      RBB\n",
      "53  2018-12-22  Departure      410\n",
      "54  2018-06-27    Arrival      LLB\n",
      "55  2018-05-06  Departure      SNA\n",
      "56  2018-04-29    Arrival      SNA\n",
      "57  2018-04-07    Arrival      OTM\n",
      "58  2018-04-06    Arrival      SYS\n",
      "59  2018-03-30    Arrival      OTM\n",
      "60  2018-03-26    Arrival      OTM\n",
      "61  2018-03-22  Departure      LOS\n",
      "62  2018-03-14    Arrival      LOS\n",
      "63  2017-12-29    Arrival      OTM\n",
      "64  2017-12-26    Arrival      SYS\n",
      "65  2017-12-25    Arrival      OTM\n",
      "66  2017-12-18    Arrival      OTM\n",
      "67  2017-12-17    Arrival      OTM\n",
      "68  2017-10-08    Arrival      OTM\n",
      "69  2017-09-17    Arrival      OTM\n",
      "70  2017-09-13    Arrival      OTM\n",
      "71  2017-09-10    Arrival      OTM\n",
      "72  2017-08-30    Arrival      OTM\n",
      "73  2017-08-26    Arrival      OTM\n",
      "74  2017-08-23    Arrival      OTM\n",
      "75  2017-08-19    Arrival      OTM\n",
      "76  2016-10-23  Departure      SNA\n",
      "77  2016-10-16    Arrival      SNA\n"
     ]
    }
   ],
   "source": [
    "# This is the .csv file version for the \"I-94 Official Website - View Travel History Response.pdf\" document.\n",
    "df = pd.read_csv(\"data/travel_history.csv\")\n",
    "\n",
    "with pd.option_context('display.max_rows', None, 'display.max_columns', None):  \n",
    "    print(df)"
   ]
  },
  {
   "cell_type": "code",
   "execution_count": 28,
   "metadata": {},
   "outputs": [],
   "source": [
    "# Breaking up date information\n",
    "df[\"year\"] = df[\"Date\"].apply(lambda x: x.split(\"-\")[0]).astype(int)\n",
    "df[\"month\"] = df[\"Date\"].apply(lambda x: x.split(\"-\")[1]).astype(int)\n",
    "df[\"day\"] = df[\"Date\"].apply(lambda x: x.split(\"-\")[2]).astype(int)"
   ]
  },
  {
   "cell_type": "code",
   "execution_count": 35,
   "metadata": {},
   "outputs": [
    {
     "data": {
      "text/html": [
       "<div>\n",
       "<style scoped>\n",
       "    .dataframe tbody tr th:only-of-type {\n",
       "        vertical-align: middle;\n",
       "    }\n",
       "\n",
       "    .dataframe tbody tr th {\n",
       "        vertical-align: top;\n",
       "    }\n",
       "\n",
       "    .dataframe thead th {\n",
       "        text-align: right;\n",
       "    }\n",
       "</style>\n",
       "<table border=\"1\" class=\"dataframe\">\n",
       "  <thead>\n",
       "    <tr style=\"text-align: right;\">\n",
       "      <th></th>\n",
       "      <th>Date</th>\n",
       "      <th>Type</th>\n",
       "      <th>Location</th>\n",
       "      <th>year</th>\n",
       "      <th>month</th>\n",
       "      <th>day</th>\n",
       "    </tr>\n",
       "  </thead>\n",
       "  <tbody>\n",
       "    <tr>\n",
       "      <th>53</th>\n",
       "      <td>2018-12-22</td>\n",
       "      <td>Departure</td>\n",
       "      <td>410</td>\n",
       "      <td>2018</td>\n",
       "      <td>12</td>\n",
       "      <td>22</td>\n",
       "    </tr>\n",
       "  </tbody>\n",
       "</table>\n",
       "</div>"
      ],
      "text/plain": [
       "          Date       Type Location  year  month  day\n",
       "53  2018-12-22  Departure      410  2018     12   22"
      ]
     },
     "execution_count": 35,
     "metadata": {},
     "output_type": "execute_result"
    }
   ],
   "source": [
    "df[df[\"Location\"].isin([\"410\"])]"
   ]
  },
  {
   "cell_type": "code",
   "execution_count": 36,
   "metadata": {},
   "outputs": [
    {
     "data": {
      "text/plain": [
       "array(['SNA', 'ARU', 'MIA', 'HOU', 'DAL', 'ATL', 'RBB', '410', 'LLB',\n",
       "       'OTM', 'SYS', 'LOS'], dtype=object)"
      ]
     },
     "execution_count": 36,
     "metadata": {},
     "output_type": "execute_result"
    }
   ],
   "source": [
    "# Adding complete name to Location\n",
    "# IMPORTANT: the three-letter code is not a reference of the standard Airport code.\n",
    "# These are the 9 FAM 102.5-1  Visa-Issuing Post Symbols\n",
    "# https://fam.state.gov/fam/09FAM/09FAM010205.html?\n",
    "df[\"Location\"].unique()"
   ]
  },
  {
   "cell_type": "code",
   "execution_count": null,
   "metadata": {},
   "outputs": [],
   "source": [
    "\n",
    "location_info = {\n",
    "    \"SNA\": {\"state or country\":\"TX\", \"city\": \"San Antonio\"},\n",
    "    \"ARU\": {\"state or country\":\"ARUBA\", \"city\": \"Oranjestad\"},\n",
    "    \"MIA\": {\"state or country\":\"FL\", \"city\": \"Miami\"},\n",
    "    \"HOU\": {\"state or country\":\"TX\", \"city\": \"Houston\"},\n",
    "    \"DAL\": {\"state or country\":\"TX\", \"city\": \"Dallas\"},\n",
    "    \"ATL\": {\"state or country\":\"GA\", \"city\": \"Atlanta\"},\n",
    "    \"RBB\": {\"state or country\":\"NY\", \"city\": \"Niagara Falls, Rainbow Bridge\"},\n",
    "    \"410\": {\"state or country\":\"CANADA\", \"city\": \"Niagara Falls\"},\n",
    "    \"LLB\": {\"state or country\":\"TX\", \"city\": \"Laredo Juarez-Lincoln Bridge 2\"},\n",
    "    \"OTM\": {\"state or country\":\"CA\", \"city\": \"Otay Mesa POE\"},\n",
    "    \"SYS\": {\"state or country\":\"CA\", \"city\": \"San Ysidro\"}, \n",
    "    \"LOS\": {\"state or country\":\"CA\", \"city\": \"Los Angeles\"},\n",
    "\n"
   ]
  }
 ],
 "metadata": {
  "kernelspec": {
   "display_name": "mdanalysis_env",
   "language": "python",
   "name": "python3"
  },
  "language_info": {
   "codemirror_mode": {
    "name": "ipython",
    "version": 3
   },
   "file_extension": ".py",
   "mimetype": "text/x-python",
   "name": "python",
   "nbconvert_exporter": "python",
   "pygments_lexer": "ipython3",
   "version": "3.12.3"
  }
 },
 "nbformat": 4,
 "nbformat_minor": 2
}
